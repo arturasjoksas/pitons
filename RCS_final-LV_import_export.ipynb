{
 "cells": [
  {
   "cell_type": "code",
   "execution_count": 19,
   "metadata": {},
   "outputs": [],
   "source": [
    "import pandas as pd\n",
    "import numpy as np\n",
    "import seaborn as sb"
   ]
  },
  {
   "cell_type": "code",
   "execution_count": null,
   "metadata": {},
   "outputs": [],
   "source": []
  },
  {
   "cell_type": "code",
   "execution_count": 35,
   "metadata": {},
   "outputs": [
    {
     "data": {
      "text/html": [
       "<div>\n",
       "<style scoped>\n",
       "    .dataframe tbody tr th:only-of-type {\n",
       "        vertical-align: middle;\n",
       "    }\n",
       "\n",
       "    .dataframe tbody tr th {\n",
       "        vertical-align: top;\n",
       "    }\n",
       "\n",
       "    .dataframe thead th {\n",
       "        text-align: right;\n",
       "    }\n",
       "</style>\n",
       "<table border=\"1\" class=\"dataframe\">\n",
       "  <thead>\n",
       "    <tr style=\"text-align: right;\">\n",
       "      <th></th>\n",
       "      <th>ATD420. Eksports un imports 2020. gadā pa valstīm (euro un kilogrami, KN 4 zīmēs)</th>\n",
       "      <th>Unnamed: 1</th>\n",
       "      <th>Unnamed: 2</th>\n",
       "      <th>Unnamed: 3</th>\n",
       "      <th>Unnamed: 4</th>\n",
       "      <th>Unnamed: 5</th>\n",
       "      <th>Unnamed: 6</th>\n",
       "    </tr>\n",
       "  </thead>\n",
       "  <tbody>\n",
       "    <tr>\n",
       "      <th>0</th>\n",
       "      <td>NaN</td>\n",
       "      <td>NaN</td>\n",
       "      <td>NaN</td>\n",
       "      <td>NaN</td>\n",
       "      <td>NaN</td>\n",
       "      <td>NaN</td>\n",
       "      <td>NaN</td>\n",
       "    </tr>\n",
       "    <tr>\n",
       "      <th>1</th>\n",
       "      <td>NaN</td>\n",
       "      <td>NaN</td>\n",
       "      <td>NaN</td>\n",
       "      <td>2020M01</td>\n",
       "      <td>2020M02</td>\n",
       "      <td>2020M03</td>\n",
       "      <td>2020M04</td>\n",
       "    </tr>\n",
       "    <tr>\n",
       "      <th>2</th>\n",
       "      <td>EUR</td>\n",
       "      <td>Imports</td>\n",
       "      <td>0201-Svaiga vai atdzesēta liellopu gaļa</td>\n",
       "      <td>734204</td>\n",
       "      <td>523602</td>\n",
       "      <td>577550</td>\n",
       "      <td>392881</td>\n",
       "    </tr>\n",
       "    <tr>\n",
       "      <th>3</th>\n",
       "      <td>NaN</td>\n",
       "      <td>NaN</td>\n",
       "      <td>0202-Saldēta liellopu gaļa</td>\n",
       "      <td>663515</td>\n",
       "      <td>588917</td>\n",
       "      <td>579336</td>\n",
       "      <td>361185</td>\n",
       "    </tr>\n",
       "    <tr>\n",
       "      <th>4</th>\n",
       "      <td>NaN</td>\n",
       "      <td>NaN</td>\n",
       "      <td>0203-Cūkgaļa, svaiga, dzesināta vai saldēta</td>\n",
       "      <td>5136957</td>\n",
       "      <td>2761347</td>\n",
       "      <td>4197937</td>\n",
       "      <td>3591849</td>\n",
       "    </tr>\n",
       "    <tr>\n",
       "      <th>5</th>\n",
       "      <td>NaN</td>\n",
       "      <td>NaN</td>\n",
       "      <td>0204-Svaiga, atdzesēta vai saldēta aitu vai ka...</td>\n",
       "      <td>87043</td>\n",
       "      <td>52621</td>\n",
       "      <td>148047</td>\n",
       "      <td>13796</td>\n",
       "    </tr>\n",
       "    <tr>\n",
       "      <th>6</th>\n",
       "      <td>NaN</td>\n",
       "      <td>NaN</td>\n",
       "      <td>0205-Svaiga, atdzesēta vai saldēta zirgu, ēzeļ...</td>\n",
       "      <td>1894</td>\n",
       "      <td>1947</td>\n",
       "      <td>5280</td>\n",
       "      <td>1817</td>\n",
       "    </tr>\n",
       "    <tr>\n",
       "      <th>7</th>\n",
       "      <td>NaN</td>\n",
       "      <td>NaN</td>\n",
       "      <td>0206-Svaigi, atdzesēti vai saldēti pārtikā lie...</td>\n",
       "      <td>314589</td>\n",
       "      <td>254079</td>\n",
       "      <td>314488</td>\n",
       "      <td>238931</td>\n",
       "    </tr>\n",
       "    <tr>\n",
       "      <th>8</th>\n",
       "      <td>NaN</td>\n",
       "      <td>NaN</td>\n",
       "      <td>0207-Svaiga, atdzesēta vai saldēta Gallus dome...</td>\n",
       "      <td>3798650</td>\n",
       "      <td>2901034</td>\n",
       "      <td>2747363</td>\n",
       "      <td>2434141</td>\n",
       "    </tr>\n",
       "    <tr>\n",
       "      <th>9</th>\n",
       "      <td>NaN</td>\n",
       "      <td>NaN</td>\n",
       "      <td>0208-Trušu, zaķu, baložu un citu dzīvnieku sva...</td>\n",
       "      <td>52180</td>\n",
       "      <td>56012</td>\n",
       "      <td>38041</td>\n",
       "      <td>11996</td>\n",
       "    </tr>\n",
       "  </tbody>\n",
       "</table>\n",
       "</div>"
      ],
      "text/plain": [
       "  ATD420. Eksports un imports 2020. gadā pa valstīm (euro un kilogrami, KN 4 zīmēs)  \\\n",
       "0                                                NaN                                  \n",
       "1                                                NaN                                  \n",
       "2                                                EUR                                  \n",
       "3                                                NaN                                  \n",
       "4                                                NaN                                  \n",
       "5                                                NaN                                  \n",
       "6                                                NaN                                  \n",
       "7                                                NaN                                  \n",
       "8                                                NaN                                  \n",
       "9                                                NaN                                  \n",
       "\n",
       "  Unnamed: 1                                         Unnamed: 2 Unnamed: 3  \\\n",
       "0        NaN                                                NaN        NaN   \n",
       "1        NaN                                                NaN    2020M01   \n",
       "2    Imports            0201-Svaiga vai atdzesēta liellopu gaļa     734204   \n",
       "3        NaN                         0202-Saldēta liellopu gaļa     663515   \n",
       "4        NaN        0203-Cūkgaļa, svaiga, dzesināta vai saldēta    5136957   \n",
       "5        NaN  0204-Svaiga, atdzesēta vai saldēta aitu vai ka...      87043   \n",
       "6        NaN  0205-Svaiga, atdzesēta vai saldēta zirgu, ēzeļ...       1894   \n",
       "7        NaN  0206-Svaigi, atdzesēti vai saldēti pārtikā lie...     314589   \n",
       "8        NaN  0207-Svaiga, atdzesēta vai saldēta Gallus dome...    3798650   \n",
       "9        NaN  0208-Trušu, zaķu, baložu un citu dzīvnieku sva...      52180   \n",
       "\n",
       "  Unnamed: 4 Unnamed: 5 Unnamed: 6  \n",
       "0        NaN        NaN        NaN  \n",
       "1    2020M02    2020M03    2020M04  \n",
       "2     523602     577550     392881  \n",
       "3     588917     579336     361185  \n",
       "4    2761347    4197937    3591849  \n",
       "5      52621     148047      13796  \n",
       "6       1947       5280       1817  \n",
       "7     254079     314488     238931  \n",
       "8    2901034    2747363    2434141  \n",
       "9      56012      38041      11996  "
      ]
     },
     "execution_count": 35,
     "metadata": {},
     "output_type": "execute_result"
    }
   ],
   "source": [
    "df = pd.read_excel(\"ATD420.xlsx\")\n",
    "df.head(10)"
   ]
  },
  {
   "cell_type": "code",
   "execution_count": null,
   "metadata": {},
   "outputs": [],
   "source": []
  },
  {
   "cell_type": "code",
   "execution_count": 36,
   "metadata": {},
   "outputs": [],
   "source": [
    "df.columns = ['Vienibas','Virziens','Grupa','2020M01','2020M02','2020M03','2020M04']"
   ]
  },
  {
   "cell_type": "code",
   "execution_count": 37,
   "metadata": {},
   "outputs": [
    {
     "data": {
      "text/html": [
       "<div>\n",
       "<style scoped>\n",
       "    .dataframe tbody tr th:only-of-type {\n",
       "        vertical-align: middle;\n",
       "    }\n",
       "\n",
       "    .dataframe tbody tr th {\n",
       "        vertical-align: top;\n",
       "    }\n",
       "\n",
       "    .dataframe thead th {\n",
       "        text-align: right;\n",
       "    }\n",
       "</style>\n",
       "<table border=\"1\" class=\"dataframe\">\n",
       "  <thead>\n",
       "    <tr style=\"text-align: right;\">\n",
       "      <th></th>\n",
       "      <th>Vienibas</th>\n",
       "      <th>Virziens</th>\n",
       "      <th>Grupa</th>\n",
       "      <th>2020M01</th>\n",
       "      <th>2020M02</th>\n",
       "      <th>2020M03</th>\n",
       "      <th>2020M04</th>\n",
       "    </tr>\n",
       "  </thead>\n",
       "  <tbody>\n",
       "    <tr>\n",
       "      <th>0</th>\n",
       "      <td>NaN</td>\n",
       "      <td>NaN</td>\n",
       "      <td>NaN</td>\n",
       "      <td>NaN</td>\n",
       "      <td>NaN</td>\n",
       "      <td>NaN</td>\n",
       "      <td>NaN</td>\n",
       "    </tr>\n",
       "    <tr>\n",
       "      <th>1</th>\n",
       "      <td>NaN</td>\n",
       "      <td>NaN</td>\n",
       "      <td>NaN</td>\n",
       "      <td>2020M01</td>\n",
       "      <td>2020M02</td>\n",
       "      <td>2020M03</td>\n",
       "      <td>2020M04</td>\n",
       "    </tr>\n",
       "    <tr>\n",
       "      <th>2</th>\n",
       "      <td>EUR</td>\n",
       "      <td>Imports</td>\n",
       "      <td>0201-Svaiga vai atdzesēta liellopu gaļa</td>\n",
       "      <td>734204</td>\n",
       "      <td>523602</td>\n",
       "      <td>577550</td>\n",
       "      <td>392881</td>\n",
       "    </tr>\n",
       "    <tr>\n",
       "      <th>3</th>\n",
       "      <td>NaN</td>\n",
       "      <td>NaN</td>\n",
       "      <td>0202-Saldēta liellopu gaļa</td>\n",
       "      <td>663515</td>\n",
       "      <td>588917</td>\n",
       "      <td>579336</td>\n",
       "      <td>361185</td>\n",
       "    </tr>\n",
       "    <tr>\n",
       "      <th>4</th>\n",
       "      <td>NaN</td>\n",
       "      <td>NaN</td>\n",
       "      <td>0203-Cūkgaļa, svaiga, dzesināta vai saldēta</td>\n",
       "      <td>5136957</td>\n",
       "      <td>2761347</td>\n",
       "      <td>4197937</td>\n",
       "      <td>3591849</td>\n",
       "    </tr>\n",
       "  </tbody>\n",
       "</table>\n",
       "</div>"
      ],
      "text/plain": [
       "  Vienibas Virziens                                        Grupa  2020M01  \\\n",
       "0      NaN      NaN                                          NaN      NaN   \n",
       "1      NaN      NaN                                          NaN  2020M01   \n",
       "2      EUR  Imports      0201-Svaiga vai atdzesēta liellopu gaļa   734204   \n",
       "3      NaN      NaN                   0202-Saldēta liellopu gaļa   663515   \n",
       "4      NaN      NaN  0203-Cūkgaļa, svaiga, dzesināta vai saldēta  5136957   \n",
       "\n",
       "   2020M02  2020M03  2020M04  \n",
       "0      NaN      NaN      NaN  \n",
       "1  2020M02  2020M03  2020M04  \n",
       "2   523602   577550   392881  \n",
       "3   588917   579336   361185  \n",
       "4  2761347  4197937  3591849  "
      ]
     },
     "execution_count": 37,
     "metadata": {},
     "output_type": "execute_result"
    }
   ],
   "source": [
    "df.head()"
   ]
  },
  {
   "cell_type": "code",
   "execution_count": 38,
   "metadata": {},
   "outputs": [
    {
     "data": {
      "text/html": [
       "<div>\n",
       "<style scoped>\n",
       "    .dataframe tbody tr th:only-of-type {\n",
       "        vertical-align: middle;\n",
       "    }\n",
       "\n",
       "    .dataframe tbody tr th {\n",
       "        vertical-align: top;\n",
       "    }\n",
       "\n",
       "    .dataframe thead th {\n",
       "        text-align: right;\n",
       "    }\n",
       "</style>\n",
       "<table border=\"1\" class=\"dataframe\">\n",
       "  <thead>\n",
       "    <tr style=\"text-align: right;\">\n",
       "      <th></th>\n",
       "      <th>Vienibas</th>\n",
       "      <th>Virziens</th>\n",
       "      <th>Grupa</th>\n",
       "      <th>2020M01</th>\n",
       "      <th>2020M02</th>\n",
       "      <th>2020M03</th>\n",
       "      <th>2020M04</th>\n",
       "    </tr>\n",
       "  </thead>\n",
       "  <tbody>\n",
       "    <tr>\n",
       "      <th>2</th>\n",
       "      <td>EUR</td>\n",
       "      <td>Imports</td>\n",
       "      <td>0201-Svaiga vai atdzesēta liellopu gaļa</td>\n",
       "      <td>734204</td>\n",
       "      <td>523602</td>\n",
       "      <td>577550</td>\n",
       "      <td>392881</td>\n",
       "    </tr>\n",
       "    <tr>\n",
       "      <th>82</th>\n",
       "      <td>kg</td>\n",
       "      <td>Imports</td>\n",
       "      <td>0201-Svaiga vai atdzesēta liellopu gaļa</td>\n",
       "      <td>152816</td>\n",
       "      <td>102632</td>\n",
       "      <td>124590</td>\n",
       "      <td>96664</td>\n",
       "    </tr>\n",
       "  </tbody>\n",
       "</table>\n",
       "</div>"
      ],
      "text/plain": [
       "   Vienibas Virziens                                    Grupa 2020M01 2020M02  \\\n",
       "2       EUR  Imports  0201-Svaiga vai atdzesēta liellopu gaļa  734204  523602   \n",
       "82       kg  Imports  0201-Svaiga vai atdzesēta liellopu gaļa  152816  102632   \n",
       "\n",
       "   2020M03 2020M04  \n",
       "2   577550  392881  \n",
       "82  124590   96664  "
      ]
     },
     "execution_count": 38,
     "metadata": {},
     "output_type": "execute_result"
    }
   ],
   "source": [
    "#dati par importu sākas no 2 un 82 rindad \n",
    "#df.loc[df.iloc[:,1] == 'Imports']\n",
    "df.loc[df['Virziens'] == 'Imports']"
   ]
  },
  {
   "cell_type": "code",
   "execution_count": 39,
   "metadata": {},
   "outputs": [
    {
     "data": {
      "text/html": [
       "<div>\n",
       "<style scoped>\n",
       "    .dataframe tbody tr th:only-of-type {\n",
       "        vertical-align: middle;\n",
       "    }\n",
       "\n",
       "    .dataframe tbody tr th {\n",
       "        vertical-align: top;\n",
       "    }\n",
       "\n",
       "    .dataframe thead th {\n",
       "        text-align: right;\n",
       "    }\n",
       "</style>\n",
       "<table border=\"1\" class=\"dataframe\">\n",
       "  <thead>\n",
       "    <tr style=\"text-align: right;\">\n",
       "      <th></th>\n",
       "      <th>Vienibas</th>\n",
       "      <th>Virziens</th>\n",
       "      <th>Grupa</th>\n",
       "      <th>2020M01</th>\n",
       "      <th>2020M02</th>\n",
       "      <th>2020M03</th>\n",
       "      <th>2020M04</th>\n",
       "    </tr>\n",
       "  </thead>\n",
       "  <tbody>\n",
       "    <tr>\n",
       "      <th>42</th>\n",
       "      <td>NaN</td>\n",
       "      <td>Eksports</td>\n",
       "      <td>0201-Svaiga vai atdzesēta liellopu gaļa</td>\n",
       "      <td>1926245</td>\n",
       "      <td>2004217</td>\n",
       "      <td>1632077</td>\n",
       "      <td>1599957</td>\n",
       "    </tr>\n",
       "    <tr>\n",
       "      <th>122</th>\n",
       "      <td>NaN</td>\n",
       "      <td>Eksports</td>\n",
       "      <td>0201-Svaiga vai atdzesēta liellopu gaļa</td>\n",
       "      <td>822619</td>\n",
       "      <td>712647</td>\n",
       "      <td>600387</td>\n",
       "      <td>616201</td>\n",
       "    </tr>\n",
       "  </tbody>\n",
       "</table>\n",
       "</div>"
      ],
      "text/plain": [
       "    Vienibas  Virziens                                    Grupa  2020M01  \\\n",
       "42       NaN  Eksports  0201-Svaiga vai atdzesēta liellopu gaļa  1926245   \n",
       "122      NaN  Eksports  0201-Svaiga vai atdzesēta liellopu gaļa   822619   \n",
       "\n",
       "     2020M02  2020M03  2020M04  \n",
       "42   2004217  1632077  1599957  \n",
       "122   712647   600387   616201  "
      ]
     },
     "execution_count": 39,
     "metadata": {},
     "output_type": "execute_result"
    }
   ],
   "source": [
    "#dati par eksportu sākas 42 un 122 rindā\n",
    "df.loc[df.iloc[:,1] == 'Eksports']"
   ]
  },
  {
   "cell_type": "code",
   "execution_count": 40,
   "metadata": {},
   "outputs": [
    {
     "data": {
      "text/html": [
       "<div>\n",
       "<style scoped>\n",
       "    .dataframe tbody tr th:only-of-type {\n",
       "        vertical-align: middle;\n",
       "    }\n",
       "\n",
       "    .dataframe tbody tr th {\n",
       "        vertical-align: top;\n",
       "    }\n",
       "\n",
       "    .dataframe thead th {\n",
       "        text-align: right;\n",
       "    }\n",
       "</style>\n",
       "<table border=\"1\" class=\"dataframe\">\n",
       "  <thead>\n",
       "    <tr style=\"text-align: right;\">\n",
       "      <th></th>\n",
       "      <th>Vienibas</th>\n",
       "      <th>Virziens</th>\n",
       "      <th>Grupa</th>\n",
       "      <th>2020M01</th>\n",
       "      <th>2020M02</th>\n",
       "      <th>2020M03</th>\n",
       "      <th>2020M04</th>\n",
       "    </tr>\n",
       "  </thead>\n",
       "  <tbody>\n",
       "    <tr>\n",
       "      <th>2</th>\n",
       "      <td>EUR</td>\n",
       "      <td>Imports</td>\n",
       "      <td>0201-Svaiga vai atdzesēta liellopu gaļa</td>\n",
       "      <td>734204</td>\n",
       "      <td>523602</td>\n",
       "      <td>577550</td>\n",
       "      <td>392881</td>\n",
       "    </tr>\n",
       "    <tr>\n",
       "      <th>42</th>\n",
       "      <td>NaN</td>\n",
       "      <td>Eksports</td>\n",
       "      <td>0201-Svaiga vai atdzesēta liellopu gaļa</td>\n",
       "      <td>1926245</td>\n",
       "      <td>2004217</td>\n",
       "      <td>1632077</td>\n",
       "      <td>1599957</td>\n",
       "    </tr>\n",
       "    <tr>\n",
       "      <th>82</th>\n",
       "      <td>kg</td>\n",
       "      <td>Imports</td>\n",
       "      <td>0201-Svaiga vai atdzesēta liellopu gaļa</td>\n",
       "      <td>152816</td>\n",
       "      <td>102632</td>\n",
       "      <td>124590</td>\n",
       "      <td>96664</td>\n",
       "    </tr>\n",
       "    <tr>\n",
       "      <th>122</th>\n",
       "      <td>NaN</td>\n",
       "      <td>Eksports</td>\n",
       "      <td>0201-Svaiga vai atdzesēta liellopu gaļa</td>\n",
       "      <td>822619</td>\n",
       "      <td>712647</td>\n",
       "      <td>600387</td>\n",
       "      <td>616201</td>\n",
       "    </tr>\n",
       "  </tbody>\n",
       "</table>\n",
       "</div>"
      ],
      "text/plain": [
       "    Vienibas  Virziens                                    Grupa  2020M01  \\\n",
       "2        EUR   Imports  0201-Svaiga vai atdzesēta liellopu gaļa   734204   \n",
       "42       NaN  Eksports  0201-Svaiga vai atdzesēta liellopu gaļa  1926245   \n",
       "82        kg   Imports  0201-Svaiga vai atdzesēta liellopu gaļa   152816   \n",
       "122      NaN  Eksports  0201-Svaiga vai atdzesēta liellopu gaļa   822619   \n",
       "\n",
       "     2020M02  2020M03  2020M04  \n",
       "2     523602   577550   392881  \n",
       "42   2004217  1632077  1599957  \n",
       "82    102632   124590    96664  \n",
       "122   712647   600387   616201  "
      ]
     },
     "execution_count": 40,
     "metadata": {},
     "output_type": "execute_result"
    }
   ],
   "source": [
    "\n",
    "df.loc[df.iloc[:,1].isnull() == False]"
   ]
  },
  {
   "cell_type": "code",
   "execution_count": 41,
   "metadata": {},
   "outputs": [
    {
     "data": {
      "text/html": [
       "<div>\n",
       "<style scoped>\n",
       "    .dataframe tbody tr th:only-of-type {\n",
       "        vertical-align: middle;\n",
       "    }\n",
       "\n",
       "    .dataframe tbody tr th {\n",
       "        vertical-align: top;\n",
       "    }\n",
       "\n",
       "    .dataframe thead th {\n",
       "        text-align: right;\n",
       "    }\n",
       "</style>\n",
       "<table border=\"1\" class=\"dataframe\">\n",
       "  <thead>\n",
       "    <tr style=\"text-align: right;\">\n",
       "      <th></th>\n",
       "      <th>Vienibas</th>\n",
       "      <th>Virziens</th>\n",
       "      <th>Grupa</th>\n",
       "      <th>2020M01</th>\n",
       "      <th>2020M02</th>\n",
       "      <th>2020M03</th>\n",
       "      <th>2020M04</th>\n",
       "    </tr>\n",
       "  </thead>\n",
       "  <tbody>\n",
       "    <tr>\n",
       "      <th>2</th>\n",
       "      <td>EUR</td>\n",
       "      <td>Imports</td>\n",
       "      <td>0201-Svaiga vai atdzesēta liellopu gaļa</td>\n",
       "      <td>734204</td>\n",
       "      <td>523602</td>\n",
       "      <td>577550</td>\n",
       "      <td>392881</td>\n",
       "    </tr>\n",
       "    <tr>\n",
       "      <th>3</th>\n",
       "      <td>NaN</td>\n",
       "      <td>NaN</td>\n",
       "      <td>0202-Saldēta liellopu gaļa</td>\n",
       "      <td>663515</td>\n",
       "      <td>588917</td>\n",
       "      <td>579336</td>\n",
       "      <td>361185</td>\n",
       "    </tr>\n",
       "    <tr>\n",
       "      <th>4</th>\n",
       "      <td>NaN</td>\n",
       "      <td>NaN</td>\n",
       "      <td>0203-Cūkgaļa, svaiga, dzesināta vai saldēta</td>\n",
       "      <td>5136957</td>\n",
       "      <td>2761347</td>\n",
       "      <td>4197937</td>\n",
       "      <td>3591849</td>\n",
       "    </tr>\n",
       "    <tr>\n",
       "      <th>5</th>\n",
       "      <td>NaN</td>\n",
       "      <td>NaN</td>\n",
       "      <td>0204-Svaiga, atdzesēta vai saldēta aitu vai ka...</td>\n",
       "      <td>87043</td>\n",
       "      <td>52621</td>\n",
       "      <td>148047</td>\n",
       "      <td>13796</td>\n",
       "    </tr>\n",
       "    <tr>\n",
       "      <th>6</th>\n",
       "      <td>NaN</td>\n",
       "      <td>NaN</td>\n",
       "      <td>0205-Svaiga, atdzesēta vai saldēta zirgu, ēzeļ...</td>\n",
       "      <td>1894</td>\n",
       "      <td>1947</td>\n",
       "      <td>5280</td>\n",
       "      <td>1817</td>\n",
       "    </tr>\n",
       "    <tr>\n",
       "      <th>...</th>\n",
       "      <td>...</td>\n",
       "      <td>...</td>\n",
       "      <td>...</td>\n",
       "      <td>...</td>\n",
       "      <td>...</td>\n",
       "      <td>...</td>\n",
       "      <td>...</td>\n",
       "    </tr>\n",
       "    <tr>\n",
       "      <th>157</th>\n",
       "      <td>NaN</td>\n",
       "      <td>NaN</td>\n",
       "      <td>0709-Citi svaigi vai atdzesēti dārzeņi (izņ. p...</td>\n",
       "      <td>263001</td>\n",
       "      <td>243729</td>\n",
       "      <td>247346</td>\n",
       "      <td>214032</td>\n",
       "    </tr>\n",
       "    <tr>\n",
       "      <th>158</th>\n",
       "      <td>NaN</td>\n",
       "      <td>NaN</td>\n",
       "      <td>0710-Saldēti dārzeņi (termiski neapstrādāti va...</td>\n",
       "      <td>136458</td>\n",
       "      <td>125933</td>\n",
       "      <td>184739</td>\n",
       "      <td>45160</td>\n",
       "    </tr>\n",
       "    <tr>\n",
       "      <th>159</th>\n",
       "      <td>NaN</td>\n",
       "      <td>NaN</td>\n",
       "      <td>0711-Īslaicīgai glabāšanai iekonservēti dārzeņ...</td>\n",
       "      <td>5279</td>\n",
       "      <td>638</td>\n",
       "      <td>3464</td>\n",
       "      <td>2445</td>\n",
       "    </tr>\n",
       "    <tr>\n",
       "      <th>160</th>\n",
       "      <td>NaN</td>\n",
       "      <td>NaN</td>\n",
       "      <td>0712-Kaltēti dārzeņi, veseli, sagriezti gabali...</td>\n",
       "      <td>119381</td>\n",
       "      <td>104296</td>\n",
       "      <td>116606</td>\n",
       "      <td>66871</td>\n",
       "    </tr>\n",
       "    <tr>\n",
       "      <th>161</th>\n",
       "      <td>NaN</td>\n",
       "      <td>NaN</td>\n",
       "      <td>0713-Kaltēti lobīti pākšu dārzeņi, arī mizoti ...</td>\n",
       "      <td>7668178</td>\n",
       "      <td>27136802</td>\n",
       "      <td>3803216</td>\n",
       "      <td>9473581</td>\n",
       "    </tr>\n",
       "  </tbody>\n",
       "</table>\n",
       "<p>160 rows × 7 columns</p>\n",
       "</div>"
      ],
      "text/plain": [
       "    Vienibas Virziens                                              Grupa  \\\n",
       "2        EUR  Imports            0201-Svaiga vai atdzesēta liellopu gaļa   \n",
       "3        NaN      NaN                         0202-Saldēta liellopu gaļa   \n",
       "4        NaN      NaN        0203-Cūkgaļa, svaiga, dzesināta vai saldēta   \n",
       "5        NaN      NaN  0204-Svaiga, atdzesēta vai saldēta aitu vai ka...   \n",
       "6        NaN      NaN  0205-Svaiga, atdzesēta vai saldēta zirgu, ēzeļ...   \n",
       "..       ...      ...                                                ...   \n",
       "157      NaN      NaN  0709-Citi svaigi vai atdzesēti dārzeņi (izņ. p...   \n",
       "158      NaN      NaN  0710-Saldēti dārzeņi (termiski neapstrādāti va...   \n",
       "159      NaN      NaN  0711-Īslaicīgai glabāšanai iekonservēti dārzeņ...   \n",
       "160      NaN      NaN  0712-Kaltēti dārzeņi, veseli, sagriezti gabali...   \n",
       "161      NaN      NaN  0713-Kaltēti lobīti pākšu dārzeņi, arī mizoti ...   \n",
       "\n",
       "     2020M01   2020M02  2020M03  2020M04  \n",
       "2     734204    523602   577550   392881  \n",
       "3     663515    588917   579336   361185  \n",
       "4    5136957   2761347  4197937  3591849  \n",
       "5      87043     52621   148047    13796  \n",
       "6       1894      1947     5280     1817  \n",
       "..       ...       ...      ...      ...  \n",
       "157   263001    243729   247346   214032  \n",
       "158   136458    125933   184739    45160  \n",
       "159     5279       638     3464     2445  \n",
       "160   119381    104296   116606    66871  \n",
       "161  7668178  27136802  3803216  9473581  \n",
       "\n",
       "[160 rows x 7 columns]"
      ]
     },
     "execution_count": 41,
     "metadata": {},
     "output_type": "execute_result"
    }
   ],
   "source": [
    "#noņeot tukšos ierakstus no kolonas Grupa var noskaidrot robežas, pagaidam neizdomaju ka šo automatizet\n",
    "df.loc[df.iloc[:,2].isnull() == False]"
   ]
  },
  {
   "cell_type": "code",
   "execution_count": 42,
   "metadata": {},
   "outputs": [],
   "source": [
    "df.iloc[2:42,1] = \"Imports\"\n",
    "df.iloc[82:122,1] = \"Imports\""
   ]
  },
  {
   "cell_type": "code",
   "execution_count": 43,
   "metadata": {},
   "outputs": [
    {
     "data": {
      "text/plain": [
       "Vienibas                                                  NaN\n",
       "Virziens                                              Imports\n",
       "Grupa       0713-Kaltēti lobīti pākšu dārzeņi, arī mizoti ...\n",
       "2020M01                                               1697878\n",
       "2020M02                                                776800\n",
       "2020M03                                               1350398\n",
       "2020M04                                               2612675\n",
       "Name: 41, dtype: object"
      ]
     },
     "execution_count": 43,
     "metadata": {},
     "output_type": "execute_result"
    }
   ],
   "source": [
    "df.loc[41]"
   ]
  },
  {
   "cell_type": "code",
   "execution_count": 44,
   "metadata": {},
   "outputs": [],
   "source": [
    "df.iloc[2:82,0] = \"EUR\""
   ]
  },
  {
   "cell_type": "code",
   "execution_count": 45,
   "metadata": {},
   "outputs": [],
   "source": [
    "df.iloc[42:82,1] = \"Eksports\"\n",
    "df.iloc[122:162,1] = \"Eksports\""
   ]
  },
  {
   "cell_type": "code",
   "execution_count": 46,
   "metadata": {},
   "outputs": [],
   "source": [
    "df.iloc[82:162,0] = \"kg\""
   ]
  },
  {
   "cell_type": "code",
   "execution_count": 47,
   "metadata": {},
   "outputs": [
    {
     "data": {
      "text/html": [
       "<div>\n",
       "<style scoped>\n",
       "    .dataframe tbody tr th:only-of-type {\n",
       "        vertical-align: middle;\n",
       "    }\n",
       "\n",
       "    .dataframe tbody tr th {\n",
       "        vertical-align: top;\n",
       "    }\n",
       "\n",
       "    .dataframe thead th {\n",
       "        text-align: right;\n",
       "    }\n",
       "</style>\n",
       "<table border=\"1\" class=\"dataframe\">\n",
       "  <thead>\n",
       "    <tr style=\"text-align: right;\">\n",
       "      <th></th>\n",
       "      <th>Vienibas</th>\n",
       "      <th>Virziens</th>\n",
       "      <th>Grupa</th>\n",
       "      <th>2020M01</th>\n",
       "      <th>2020M02</th>\n",
       "      <th>2020M03</th>\n",
       "      <th>2020M04</th>\n",
       "    </tr>\n",
       "  </thead>\n",
       "  <tbody>\n",
       "    <tr>\n",
       "      <th>42</th>\n",
       "      <td>EUR</td>\n",
       "      <td>Eksports</td>\n",
       "      <td>0201-Svaiga vai atdzesēta liellopu gaļa</td>\n",
       "      <td>1926245</td>\n",
       "      <td>2004217</td>\n",
       "      <td>1632077</td>\n",
       "      <td>1599957</td>\n",
       "    </tr>\n",
       "    <tr>\n",
       "      <th>43</th>\n",
       "      <td>EUR</td>\n",
       "      <td>Eksports</td>\n",
       "      <td>0202-Saldēta liellopu gaļa</td>\n",
       "      <td>348014</td>\n",
       "      <td>310110</td>\n",
       "      <td>276784</td>\n",
       "      <td>282446</td>\n",
       "    </tr>\n",
       "    <tr>\n",
       "      <th>44</th>\n",
       "      <td>EUR</td>\n",
       "      <td>Eksports</td>\n",
       "      <td>0203-Cūkgaļa, svaiga, dzesināta vai saldēta</td>\n",
       "      <td>612841</td>\n",
       "      <td>584685</td>\n",
       "      <td>659444</td>\n",
       "      <td>494858</td>\n",
       "    </tr>\n",
       "    <tr>\n",
       "      <th>45</th>\n",
       "      <td>EUR</td>\n",
       "      <td>Eksports</td>\n",
       "      <td>0204-Svaiga, atdzesēta vai saldēta aitu vai ka...</td>\n",
       "      <td>115964</td>\n",
       "      <td>104079</td>\n",
       "      <td>68702</td>\n",
       "      <td>32736</td>\n",
       "    </tr>\n",
       "    <tr>\n",
       "      <th>46</th>\n",
       "      <td>EUR</td>\n",
       "      <td>Eksports</td>\n",
       "      <td>0205-Svaiga, atdzesēta vai saldēta zirgu, ēzeļ...</td>\n",
       "      <td>0</td>\n",
       "      <td>0</td>\n",
       "      <td>0</td>\n",
       "      <td>0</td>\n",
       "    </tr>\n",
       "    <tr>\n",
       "      <th>...</th>\n",
       "      <td>...</td>\n",
       "      <td>...</td>\n",
       "      <td>...</td>\n",
       "      <td>...</td>\n",
       "      <td>...</td>\n",
       "      <td>...</td>\n",
       "      <td>...</td>\n",
       "    </tr>\n",
       "    <tr>\n",
       "      <th>157</th>\n",
       "      <td>kg</td>\n",
       "      <td>Eksports</td>\n",
       "      <td>0709-Citi svaigi vai atdzesēti dārzeņi (izņ. p...</td>\n",
       "      <td>263001</td>\n",
       "      <td>243729</td>\n",
       "      <td>247346</td>\n",
       "      <td>214032</td>\n",
       "    </tr>\n",
       "    <tr>\n",
       "      <th>158</th>\n",
       "      <td>kg</td>\n",
       "      <td>Eksports</td>\n",
       "      <td>0710-Saldēti dārzeņi (termiski neapstrādāti va...</td>\n",
       "      <td>136458</td>\n",
       "      <td>125933</td>\n",
       "      <td>184739</td>\n",
       "      <td>45160</td>\n",
       "    </tr>\n",
       "    <tr>\n",
       "      <th>159</th>\n",
       "      <td>kg</td>\n",
       "      <td>Eksports</td>\n",
       "      <td>0711-Īslaicīgai glabāšanai iekonservēti dārzeņ...</td>\n",
       "      <td>5279</td>\n",
       "      <td>638</td>\n",
       "      <td>3464</td>\n",
       "      <td>2445</td>\n",
       "    </tr>\n",
       "    <tr>\n",
       "      <th>160</th>\n",
       "      <td>kg</td>\n",
       "      <td>Eksports</td>\n",
       "      <td>0712-Kaltēti dārzeņi, veseli, sagriezti gabali...</td>\n",
       "      <td>119381</td>\n",
       "      <td>104296</td>\n",
       "      <td>116606</td>\n",
       "      <td>66871</td>\n",
       "    </tr>\n",
       "    <tr>\n",
       "      <th>161</th>\n",
       "      <td>kg</td>\n",
       "      <td>Eksports</td>\n",
       "      <td>0713-Kaltēti lobīti pākšu dārzeņi, arī mizoti ...</td>\n",
       "      <td>7668178</td>\n",
       "      <td>27136802</td>\n",
       "      <td>3803216</td>\n",
       "      <td>9473581</td>\n",
       "    </tr>\n",
       "  </tbody>\n",
       "</table>\n",
       "<p>80 rows × 7 columns</p>\n",
       "</div>"
      ],
      "text/plain": [
       "    Vienibas  Virziens                                              Grupa  \\\n",
       "42       EUR  Eksports            0201-Svaiga vai atdzesēta liellopu gaļa   \n",
       "43       EUR  Eksports                         0202-Saldēta liellopu gaļa   \n",
       "44       EUR  Eksports        0203-Cūkgaļa, svaiga, dzesināta vai saldēta   \n",
       "45       EUR  Eksports  0204-Svaiga, atdzesēta vai saldēta aitu vai ka...   \n",
       "46       EUR  Eksports  0205-Svaiga, atdzesēta vai saldēta zirgu, ēzeļ...   \n",
       "..       ...       ...                                                ...   \n",
       "157       kg  Eksports  0709-Citi svaigi vai atdzesēti dārzeņi (izņ. p...   \n",
       "158       kg  Eksports  0710-Saldēti dārzeņi (termiski neapstrādāti va...   \n",
       "159       kg  Eksports  0711-Īslaicīgai glabāšanai iekonservēti dārzeņ...   \n",
       "160       kg  Eksports  0712-Kaltēti dārzeņi, veseli, sagriezti gabali...   \n",
       "161       kg  Eksports  0713-Kaltēti lobīti pākšu dārzeņi, arī mizoti ...   \n",
       "\n",
       "     2020M01   2020M02  2020M03  2020M04  \n",
       "42   1926245   2004217  1632077  1599957  \n",
       "43    348014    310110   276784   282446  \n",
       "44    612841    584685   659444   494858  \n",
       "45    115964    104079    68702    32736  \n",
       "46         0         0        0        0  \n",
       "..       ...       ...      ...      ...  \n",
       "157   263001    243729   247346   214032  \n",
       "158   136458    125933   184739    45160  \n",
       "159     5279       638     3464     2445  \n",
       "160   119381    104296   116606    66871  \n",
       "161  7668178  27136802  3803216  9473581  \n",
       "\n",
       "[80 rows x 7 columns]"
      ]
     },
     "execution_count": 47,
     "metadata": {},
     "output_type": "execute_result"
    }
   ],
   "source": [
    "#pārbaudām rezultātu\n",
    "df.loc[df['Virziens'] == 'Eksports']"
   ]
  },
  {
   "cell_type": "code",
   "execution_count": 48,
   "metadata": {},
   "outputs": [
    {
     "data": {
      "text/html": [
       "<div>\n",
       "<style scoped>\n",
       "    .dataframe tbody tr th:only-of-type {\n",
       "        vertical-align: middle;\n",
       "    }\n",
       "\n",
       "    .dataframe tbody tr th {\n",
       "        vertical-align: top;\n",
       "    }\n",
       "\n",
       "    .dataframe thead th {\n",
       "        text-align: right;\n",
       "    }\n",
       "</style>\n",
       "<table border=\"1\" class=\"dataframe\">\n",
       "  <thead>\n",
       "    <tr style=\"text-align: right;\">\n",
       "      <th></th>\n",
       "      <th>Vienibas</th>\n",
       "      <th>Virziens</th>\n",
       "      <th>Grupa</th>\n",
       "      <th>2020M01</th>\n",
       "      <th>2020M02</th>\n",
       "      <th>2020M03</th>\n",
       "      <th>2020M04</th>\n",
       "    </tr>\n",
       "  </thead>\n",
       "  <tbody>\n",
       "    <tr>\n",
       "      <th>2</th>\n",
       "      <td>EUR</td>\n",
       "      <td>Imports</td>\n",
       "      <td>0201-Svaiga vai atdzesēta liellopu gaļa</td>\n",
       "      <td>734204</td>\n",
       "      <td>523602</td>\n",
       "      <td>577550</td>\n",
       "      <td>392881</td>\n",
       "    </tr>\n",
       "    <tr>\n",
       "      <th>3</th>\n",
       "      <td>EUR</td>\n",
       "      <td>Imports</td>\n",
       "      <td>0202-Saldēta liellopu gaļa</td>\n",
       "      <td>663515</td>\n",
       "      <td>588917</td>\n",
       "      <td>579336</td>\n",
       "      <td>361185</td>\n",
       "    </tr>\n",
       "    <tr>\n",
       "      <th>4</th>\n",
       "      <td>EUR</td>\n",
       "      <td>Imports</td>\n",
       "      <td>0203-Cūkgaļa, svaiga, dzesināta vai saldēta</td>\n",
       "      <td>5136957</td>\n",
       "      <td>2761347</td>\n",
       "      <td>4197937</td>\n",
       "      <td>3591849</td>\n",
       "    </tr>\n",
       "    <tr>\n",
       "      <th>5</th>\n",
       "      <td>EUR</td>\n",
       "      <td>Imports</td>\n",
       "      <td>0204-Svaiga, atdzesēta vai saldēta aitu vai ka...</td>\n",
       "      <td>87043</td>\n",
       "      <td>52621</td>\n",
       "      <td>148047</td>\n",
       "      <td>13796</td>\n",
       "    </tr>\n",
       "    <tr>\n",
       "      <th>6</th>\n",
       "      <td>EUR</td>\n",
       "      <td>Imports</td>\n",
       "      <td>0205-Svaiga, atdzesēta vai saldēta zirgu, ēzeļ...</td>\n",
       "      <td>1894</td>\n",
       "      <td>1947</td>\n",
       "      <td>5280</td>\n",
       "      <td>1817</td>\n",
       "    </tr>\n",
       "    <tr>\n",
       "      <th>...</th>\n",
       "      <td>...</td>\n",
       "      <td>...</td>\n",
       "      <td>...</td>\n",
       "      <td>...</td>\n",
       "      <td>...</td>\n",
       "      <td>...</td>\n",
       "      <td>...</td>\n",
       "    </tr>\n",
       "    <tr>\n",
       "      <th>157</th>\n",
       "      <td>kg</td>\n",
       "      <td>Eksports</td>\n",
       "      <td>0709-Citi svaigi vai atdzesēti dārzeņi (izņ. p...</td>\n",
       "      <td>263001</td>\n",
       "      <td>243729</td>\n",
       "      <td>247346</td>\n",
       "      <td>214032</td>\n",
       "    </tr>\n",
       "    <tr>\n",
       "      <th>158</th>\n",
       "      <td>kg</td>\n",
       "      <td>Eksports</td>\n",
       "      <td>0710-Saldēti dārzeņi (termiski neapstrādāti va...</td>\n",
       "      <td>136458</td>\n",
       "      <td>125933</td>\n",
       "      <td>184739</td>\n",
       "      <td>45160</td>\n",
       "    </tr>\n",
       "    <tr>\n",
       "      <th>159</th>\n",
       "      <td>kg</td>\n",
       "      <td>Eksports</td>\n",
       "      <td>0711-Īslaicīgai glabāšanai iekonservēti dārzeņ...</td>\n",
       "      <td>5279</td>\n",
       "      <td>638</td>\n",
       "      <td>3464</td>\n",
       "      <td>2445</td>\n",
       "    </tr>\n",
       "    <tr>\n",
       "      <th>160</th>\n",
       "      <td>kg</td>\n",
       "      <td>Eksports</td>\n",
       "      <td>0712-Kaltēti dārzeņi, veseli, sagriezti gabali...</td>\n",
       "      <td>119381</td>\n",
       "      <td>104296</td>\n",
       "      <td>116606</td>\n",
       "      <td>66871</td>\n",
       "    </tr>\n",
       "    <tr>\n",
       "      <th>161</th>\n",
       "      <td>kg</td>\n",
       "      <td>Eksports</td>\n",
       "      <td>0713-Kaltēti lobīti pākšu dārzeņi, arī mizoti ...</td>\n",
       "      <td>7668178</td>\n",
       "      <td>27136802</td>\n",
       "      <td>3803216</td>\n",
       "      <td>9473581</td>\n",
       "    </tr>\n",
       "  </tbody>\n",
       "</table>\n",
       "<p>160 rows × 7 columns</p>\n",
       "</div>"
      ],
      "text/plain": [
       "    Vienibas  Virziens                                              Grupa  \\\n",
       "2        EUR   Imports            0201-Svaiga vai atdzesēta liellopu gaļa   \n",
       "3        EUR   Imports                         0202-Saldēta liellopu gaļa   \n",
       "4        EUR   Imports        0203-Cūkgaļa, svaiga, dzesināta vai saldēta   \n",
       "5        EUR   Imports  0204-Svaiga, atdzesēta vai saldēta aitu vai ka...   \n",
       "6        EUR   Imports  0205-Svaiga, atdzesēta vai saldēta zirgu, ēzeļ...   \n",
       "..       ...       ...                                                ...   \n",
       "157       kg  Eksports  0709-Citi svaigi vai atdzesēti dārzeņi (izņ. p...   \n",
       "158       kg  Eksports  0710-Saldēti dārzeņi (termiski neapstrādāti va...   \n",
       "159       kg  Eksports  0711-Īslaicīgai glabāšanai iekonservēti dārzeņ...   \n",
       "160       kg  Eksports  0712-Kaltēti dārzeņi, veseli, sagriezti gabali...   \n",
       "161       kg  Eksports  0713-Kaltēti lobīti pākšu dārzeņi, arī mizoti ...   \n",
       "\n",
       "     2020M01   2020M02  2020M03  2020M04  \n",
       "2     734204    523602   577550   392881  \n",
       "3     663515    588917   579336   361185  \n",
       "4    5136957   2761347  4197937  3591849  \n",
       "5      87043     52621   148047    13796  \n",
       "6       1894      1947     5280     1817  \n",
       "..       ...       ...      ...      ...  \n",
       "157   263001    243729   247346   214032  \n",
       "158   136458    125933   184739    45160  \n",
       "159     5279       638     3464     2445  \n",
       "160   119381    104296   116606    66871  \n",
       "161  7668178  27136802  3803216  9473581  \n",
       "\n",
       "[160 rows x 7 columns]"
      ]
     },
     "execution_count": 48,
     "metadata": {},
     "output_type": "execute_result"
    }
   ],
   "source": [
    "df = df.loc[df['Grupa'].isnull() == False]\n",
    "df"
   ]
  },
  {
   "cell_type": "code",
   "execution_count": 49,
   "metadata": {},
   "outputs": [
    {
     "data": {
      "text/plain": [
       "<seaborn.axisgrid.PairGrid at 0x1c1c0d380c8>"
      ]
     },
     "execution_count": 49,
     "metadata": {},
     "output_type": "execute_result"
    },
    {
     "data": {
      "image/png": "[encoded data removed]",
      "text/plain": [
       "<Figure size 720x720 with 20 Axes>"
      ]
     },
     "metadata": {
      "needs_background": "light"
     },
     "output_type": "display_data"
    }
   ],
   "source": [
    "sb.pairplot(df)"
   ]
  },
  {
   "cell_type": "code",
   "execution_count": 51,
   "metadata": {},
   "outputs": [
    {
     "data": {
      "text/plain": [
       "<matplotlib.axes._subplots.AxesSubplot at 0x1c1c0bd89c8>"
      ]
     },
     "execution_count": 51,
     "metadata": {},
     "output_type": "execute_result"
    },
    {
     "data": {
      "image/png": "[encoded data removed]",
      "text/plain": [
       "<Figure size 432x288 with 1 Axes>"
      ]
     },
     "metadata": {
      "needs_background": "light"
     },
     "output_type": "display_data"
    }
   ],
   "source": [
    "#šis grafiks īsti neko neparāda.... \n",
    "df.plot()"
   ]
  },
  {
   "cell_type": "code",
   "execution_count": 22,
   "metadata": {},
   "outputs": [],
   "source": [
    "#datu filtrešanas funkcija\n",
    "def dffilter(ie,uni='kg'):\n",
    "    filtered = df.loc[(df['Virziens'] == ie) & (df['Vienibas'] == uni)]\n",
    "    return filtered #.iloc[:,2:]"
   ]
  },
  {
   "cell_type": "code",
   "execution_count": 23,
   "metadata": {},
   "outputs": [
    {
     "data": {
      "text/html": [
       "<div>\n",
       "<style scoped>\n",
       "    .dataframe tbody tr th:only-of-type {\n",
       "        vertical-align: middle;\n",
       "    }\n",
       "\n",
       "    .dataframe tbody tr th {\n",
       "        vertical-align: top;\n",
       "    }\n",
       "\n",
       "    .dataframe thead th {\n",
       "        text-align: right;\n",
       "    }\n",
       "</style>\n",
       "<table border=\"1\" class=\"dataframe\">\n",
       "  <thead>\n",
       "    <tr style=\"text-align: right;\">\n",
       "      <th></th>\n",
       "      <th>Vienibas</th>\n",
       "      <th>Virziens</th>\n",
       "      <th>Grupa</th>\n",
       "      <th>2020M01</th>\n",
       "      <th>2020M02</th>\n",
       "      <th>2020M03</th>\n",
       "      <th>2020M04</th>\n",
       "    </tr>\n",
       "  </thead>\n",
       "  <tbody>\n",
       "    <tr>\n",
       "      <th>82</th>\n",
       "      <td>kg</td>\n",
       "      <td>Imports</td>\n",
       "      <td>0201-Svaiga vai atdzesēta liellopu gaļa</td>\n",
       "      <td>152816</td>\n",
       "      <td>102632</td>\n",
       "      <td>124590</td>\n",
       "      <td>96664</td>\n",
       "    </tr>\n",
       "    <tr>\n",
       "      <th>83</th>\n",
       "      <td>kg</td>\n",
       "      <td>Imports</td>\n",
       "      <td>0202-Saldēta liellopu gaļa</td>\n",
       "      <td>179394</td>\n",
       "      <td>153553</td>\n",
       "      <td>179234</td>\n",
       "      <td>101273</td>\n",
       "    </tr>\n",
       "    <tr>\n",
       "      <th>84</th>\n",
       "      <td>kg</td>\n",
       "      <td>Imports</td>\n",
       "      <td>0203-Cūkgaļa, svaiga, dzesināta vai saldēta</td>\n",
       "      <td>2315942</td>\n",
       "      <td>1095049</td>\n",
       "      <td>1706581</td>\n",
       "      <td>1541938</td>\n",
       "    </tr>\n",
       "    <tr>\n",
       "      <th>85</th>\n",
       "      <td>kg</td>\n",
       "      <td>Imports</td>\n",
       "      <td>0204-Svaiga, atdzesēta vai saldēta aitu vai ka...</td>\n",
       "      <td>9222</td>\n",
       "      <td>5402</td>\n",
       "      <td>13490</td>\n",
       "      <td>2160</td>\n",
       "    </tr>\n",
       "    <tr>\n",
       "      <th>86</th>\n",
       "      <td>kg</td>\n",
       "      <td>Imports</td>\n",
       "      <td>0205-Svaiga, atdzesēta vai saldēta zirgu, ēzeļ...</td>\n",
       "      <td>689</td>\n",
       "      <td>708</td>\n",
       "      <td>1920</td>\n",
       "      <td>661</td>\n",
       "    </tr>\n",
       "  </tbody>\n",
       "</table>\n",
       "</div>"
      ],
      "text/plain": [
       "   Vienibas Virziens                                              Grupa  \\\n",
       "82       kg  Imports            0201-Svaiga vai atdzesēta liellopu gaļa   \n",
       "83       kg  Imports                         0202-Saldēta liellopu gaļa   \n",
       "84       kg  Imports        0203-Cūkgaļa, svaiga, dzesināta vai saldēta   \n",
       "85       kg  Imports  0204-Svaiga, atdzesēta vai saldēta aitu vai ka...   \n",
       "86       kg  Imports  0205-Svaiga, atdzesēta vai saldēta zirgu, ēzeļ...   \n",
       "\n",
       "    2020M01  2020M02  2020M03  2020M04  \n",
       "82   152816   102632   124590    96664  \n",
       "83   179394   153553   179234   101273  \n",
       "84  2315942  1095049  1706581  1541938  \n",
       "85     9222     5402    13490     2160  \n",
       "86      689      708     1920      661  "
      ]
     },
     "execution_count": 23,
     "metadata": {},
     "output_type": "execute_result"
    }
   ],
   "source": [
    "df_import = dffilter('Imports')\n",
    "df_import[:5]"
   ]
  },
  {
   "cell_type": "code",
   "execution_count": 59,
   "metadata": {},
   "outputs": [
    {
     "data": {
      "text/html": [
       "<div>\n",
       "<style scoped>\n",
       "    .dataframe tbody tr th:only-of-type {\n",
       "        vertical-align: middle;\n",
       "    }\n",
       "\n",
       "    .dataframe tbody tr th {\n",
       "        vertical-align: top;\n",
       "    }\n",
       "\n",
       "    .dataframe thead th {\n",
       "        text-align: right;\n",
       "    }\n",
       "</style>\n",
       "<table border=\"1\" class=\"dataframe\">\n",
       "  <thead>\n",
       "    <tr style=\"text-align: right;\">\n",
       "      <th></th>\n",
       "      <th>Vienibas</th>\n",
       "      <th>Virziens</th>\n",
       "      <th>Grupa</th>\n",
       "      <th>2020M01</th>\n",
       "      <th>2020M02</th>\n",
       "      <th>2020M03</th>\n",
       "      <th>2020M04</th>\n",
       "    </tr>\n",
       "  </thead>\n",
       "  <tbody>\n",
       "    <tr>\n",
       "      <th>122</th>\n",
       "      <td>kg</td>\n",
       "      <td>Eksports</td>\n",
       "      <td>0201-Svaiga vai atdzesēta liellopu gaļa</td>\n",
       "      <td>822619</td>\n",
       "      <td>712647</td>\n",
       "      <td>600387</td>\n",
       "      <td>616201</td>\n",
       "    </tr>\n",
       "    <tr>\n",
       "      <th>123</th>\n",
       "      <td>kg</td>\n",
       "      <td>Eksports</td>\n",
       "      <td>0202-Saldēta liellopu gaļa</td>\n",
       "      <td>92592</td>\n",
       "      <td>80154</td>\n",
       "      <td>75976</td>\n",
       "      <td>76734</td>\n",
       "    </tr>\n",
       "    <tr>\n",
       "      <th>124</th>\n",
       "      <td>kg</td>\n",
       "      <td>Eksports</td>\n",
       "      <td>0203-Cūkgaļa, svaiga, dzesināta vai saldēta</td>\n",
       "      <td>201170</td>\n",
       "      <td>216570</td>\n",
       "      <td>219191</td>\n",
       "      <td>189780</td>\n",
       "    </tr>\n",
       "    <tr>\n",
       "      <th>125</th>\n",
       "      <td>kg</td>\n",
       "      <td>Eksports</td>\n",
       "      <td>0204-Svaiga, atdzesēta vai saldēta aitu vai ka...</td>\n",
       "      <td>18048</td>\n",
       "      <td>14407</td>\n",
       "      <td>9308</td>\n",
       "      <td>4906</td>\n",
       "    </tr>\n",
       "    <tr>\n",
       "      <th>126</th>\n",
       "      <td>kg</td>\n",
       "      <td>Eksports</td>\n",
       "      <td>0205-Svaiga, atdzesēta vai saldēta zirgu, ēzeļ...</td>\n",
       "      <td>0</td>\n",
       "      <td>0</td>\n",
       "      <td>0</td>\n",
       "      <td>0</td>\n",
       "    </tr>\n",
       "  </tbody>\n",
       "</table>\n",
       "</div>"
      ],
      "text/plain": [
       "    Vienibas  Virziens                                              Grupa  \\\n",
       "122       kg  Eksports            0201-Svaiga vai atdzesēta liellopu gaļa   \n",
       "123       kg  Eksports                         0202-Saldēta liellopu gaļa   \n",
       "124       kg  Eksports        0203-Cūkgaļa, svaiga, dzesināta vai saldēta   \n",
       "125       kg  Eksports  0204-Svaiga, atdzesēta vai saldēta aitu vai ka...   \n",
       "126       kg  Eksports  0205-Svaiga, atdzesēta vai saldēta zirgu, ēzeļ...   \n",
       "\n",
       "    2020M01 2020M02 2020M03 2020M04  \n",
       "122  822619  712647  600387  616201  \n",
       "123   92592   80154   75976   76734  \n",
       "124  201170  216570  219191  189780  \n",
       "125   18048   14407    9308    4906  \n",
       "126       0       0       0       0  "
      ]
     },
     "execution_count": 59,
     "metadata": {},
     "output_type": "execute_result"
    }
   ],
   "source": [
    "df_export = dffilter('Eksports')\n",
    "df_export[:5]"
   ]
  },
  {
   "cell_type": "markdown",
   "metadata": {},
   "source": [
    "## nolemu pameginat visu pārlikt vienā kolonna ar nosaukumu 'Datums'"
   ]
  },
  {
   "cell_type": "code",
   "execution_count": 60,
   "metadata": {},
   "outputs": [],
   "source": [
    "df['Datums'] = ''"
   ]
  },
  {
   "cell_type": "code",
   "execution_count": 114,
   "metadata": {},
   "outputs": [
    {
     "data": {
      "text/html": [
       "<div>\n",
       "<style scoped>\n",
       "    .dataframe tbody tr th:only-of-type {\n",
       "        vertical-align: middle;\n",
       "    }\n",
       "\n",
       "    .dataframe tbody tr th {\n",
       "        vertical-align: top;\n",
       "    }\n",
       "\n",
       "    .dataframe thead th {\n",
       "        text-align: right;\n",
       "    }\n",
       "</style>\n",
       "<table border=\"1\" class=\"dataframe\">\n",
       "  <thead>\n",
       "    <tr style=\"text-align: right;\">\n",
       "      <th></th>\n",
       "      <th>Vienibas</th>\n",
       "      <th>Virziens</th>\n",
       "      <th>Grupa</th>\n",
       "      <th>2020M01</th>\n",
       "      <th>2020M02</th>\n",
       "      <th>2020M03</th>\n",
       "      <th>2020M04</th>\n",
       "      <th>Datums</th>\n",
       "    </tr>\n",
       "  </thead>\n",
       "  <tbody>\n",
       "    <tr>\n",
       "      <th>2</th>\n",
       "      <td>EUR</td>\n",
       "      <td>Imports</td>\n",
       "      <td>0201-Svaiga vai atdzesēta liellopu gaļa</td>\n",
       "      <td>734204</td>\n",
       "      <td>523602</td>\n",
       "      <td>577550</td>\n",
       "      <td>392881</td>\n",
       "      <td></td>\n",
       "    </tr>\n",
       "    <tr>\n",
       "      <th>3</th>\n",
       "      <td>EUR</td>\n",
       "      <td>Imports</td>\n",
       "      <td>0202-Saldēta liellopu gaļa</td>\n",
       "      <td>663515</td>\n",
       "      <td>588917</td>\n",
       "      <td>579336</td>\n",
       "      <td>361185</td>\n",
       "      <td></td>\n",
       "    </tr>\n",
       "    <tr>\n",
       "      <th>4</th>\n",
       "      <td>EUR</td>\n",
       "      <td>Imports</td>\n",
       "      <td>0203-Cūkgaļa, svaiga, dzesināta vai saldēta</td>\n",
       "      <td>5136957</td>\n",
       "      <td>2761347</td>\n",
       "      <td>4197937</td>\n",
       "      <td>3591849</td>\n",
       "      <td></td>\n",
       "    </tr>\n",
       "    <tr>\n",
       "      <th>5</th>\n",
       "      <td>EUR</td>\n",
       "      <td>Imports</td>\n",
       "      <td>0204-Svaiga, atdzesēta vai saldēta aitu vai ka...</td>\n",
       "      <td>87043</td>\n",
       "      <td>52621</td>\n",
       "      <td>148047</td>\n",
       "      <td>13796</td>\n",
       "      <td></td>\n",
       "    </tr>\n",
       "    <tr>\n",
       "      <th>6</th>\n",
       "      <td>EUR</td>\n",
       "      <td>Imports</td>\n",
       "      <td>0205-Svaiga, atdzesēta vai saldēta zirgu, ēzeļ...</td>\n",
       "      <td>1894</td>\n",
       "      <td>1947</td>\n",
       "      <td>5280</td>\n",
       "      <td>1817</td>\n",
       "      <td></td>\n",
       "    </tr>\n",
       "    <tr>\n",
       "      <th>...</th>\n",
       "      <td>...</td>\n",
       "      <td>...</td>\n",
       "      <td>...</td>\n",
       "      <td>...</td>\n",
       "      <td>...</td>\n",
       "      <td>...</td>\n",
       "      <td>...</td>\n",
       "      <td>...</td>\n",
       "    </tr>\n",
       "    <tr>\n",
       "      <th>157</th>\n",
       "      <td>kg</td>\n",
       "      <td>Eksports</td>\n",
       "      <td>0709-Citi svaigi vai atdzesēti dārzeņi (izņ. p...</td>\n",
       "      <td>263001</td>\n",
       "      <td>243729</td>\n",
       "      <td>247346</td>\n",
       "      <td>214032</td>\n",
       "      <td></td>\n",
       "    </tr>\n",
       "    <tr>\n",
       "      <th>158</th>\n",
       "      <td>kg</td>\n",
       "      <td>Eksports</td>\n",
       "      <td>0710-Saldēti dārzeņi (termiski neapstrādāti va...</td>\n",
       "      <td>136458</td>\n",
       "      <td>125933</td>\n",
       "      <td>184739</td>\n",
       "      <td>45160</td>\n",
       "      <td></td>\n",
       "    </tr>\n",
       "    <tr>\n",
       "      <th>159</th>\n",
       "      <td>kg</td>\n",
       "      <td>Eksports</td>\n",
       "      <td>0711-Īslaicīgai glabāšanai iekonservēti dārzeņ...</td>\n",
       "      <td>5279</td>\n",
       "      <td>638</td>\n",
       "      <td>3464</td>\n",
       "      <td>2445</td>\n",
       "      <td></td>\n",
       "    </tr>\n",
       "    <tr>\n",
       "      <th>160</th>\n",
       "      <td>kg</td>\n",
       "      <td>Eksports</td>\n",
       "      <td>0712-Kaltēti dārzeņi, veseli, sagriezti gabali...</td>\n",
       "      <td>119381</td>\n",
       "      <td>104296</td>\n",
       "      <td>116606</td>\n",
       "      <td>66871</td>\n",
       "      <td></td>\n",
       "    </tr>\n",
       "    <tr>\n",
       "      <th>161</th>\n",
       "      <td>kg</td>\n",
       "      <td>Eksports</td>\n",
       "      <td>0713-Kaltēti lobīti pākšu dārzeņi, arī mizoti ...</td>\n",
       "      <td>7668178</td>\n",
       "      <td>27136802</td>\n",
       "      <td>3803216</td>\n",
       "      <td>9473581</td>\n",
       "      <td></td>\n",
       "    </tr>\n",
       "  </tbody>\n",
       "</table>\n",
       "<p>160 rows × 8 columns</p>\n",
       "</div>"
      ],
      "text/plain": [
       "    Vienibas  Virziens                                              Grupa  \\\n",
       "2        EUR   Imports            0201-Svaiga vai atdzesēta liellopu gaļa   \n",
       "3        EUR   Imports                         0202-Saldēta liellopu gaļa   \n",
       "4        EUR   Imports        0203-Cūkgaļa, svaiga, dzesināta vai saldēta   \n",
       "5        EUR   Imports  0204-Svaiga, atdzesēta vai saldēta aitu vai ka...   \n",
       "6        EUR   Imports  0205-Svaiga, atdzesēta vai saldēta zirgu, ēzeļ...   \n",
       "..       ...       ...                                                ...   \n",
       "157       kg  Eksports  0709-Citi svaigi vai atdzesēti dārzeņi (izņ. p...   \n",
       "158       kg  Eksports  0710-Saldēti dārzeņi (termiski neapstrādāti va...   \n",
       "159       kg  Eksports  0711-Īslaicīgai glabāšanai iekonservēti dārzeņ...   \n",
       "160       kg  Eksports  0712-Kaltēti dārzeņi, veseli, sagriezti gabali...   \n",
       "161       kg  Eksports  0713-Kaltēti lobīti pākšu dārzeņi, arī mizoti ...   \n",
       "\n",
       "     2020M01   2020M02  2020M03  2020M04 Datums  \n",
       "2     734204    523602   577550   392881         \n",
       "3     663515    588917   579336   361185         \n",
       "4    5136957   2761347  4197937  3591849         \n",
       "5      87043     52621   148047    13796         \n",
       "6       1894      1947     5280     1817         \n",
       "..       ...       ...      ...      ...    ...  \n",
       "157   263001    243729   247346   214032         \n",
       "158   136458    125933   184739    45160         \n",
       "159     5279       638     3464     2445         \n",
       "160   119381    104296   116606    66871         \n",
       "161  7668178  27136802  3803216  9473581         \n",
       "\n",
       "[160 rows x 8 columns]"
      ]
     },
     "execution_count": 114,
     "metadata": {},
     "output_type": "execute_result"
    }
   ],
   "source": [
    "df"
   ]
  },
  {
   "cell_type": "code",
   "execution_count": 115,
   "metadata": {},
   "outputs": [
    {
     "data": {
      "text/plain": [
       "['2020M01', '2020M02', '2020M03', '2020M04']"
      ]
     },
     "execution_count": 115,
     "metadata": {},
     "output_type": "execute_result"
    }
   ],
   "source": [
    "list(df.columns)[3:-1]"
   ]
  },
  {
   "cell_type": "code",
   "execution_count": 116,
   "metadata": {},
   "outputs": [],
   "source": [
    "def dfdate(d):\n",
    "    df0 = df.loc[:,['Grupa', 'Datums', 'Virziens', d, 'Vienibas']]\n",
    "    df0.loc[:,'Datums'] = d\n",
    "    df0.rename(columns={d :'Daudzums'}, inplace=True )\n",
    "    return df0"
   ]
  },
  {
   "cell_type": "code",
   "execution_count": 117,
   "metadata": {},
   "outputs": [
    {
     "data": {
      "text/plain": [
       "['2020M01', '2020M02', '2020M03', '2020M04']"
      ]
     },
     "execution_count": 117,
     "metadata": {},
     "output_type": "execute_result"
    }
   ],
   "source": [
    "dates = list(df.columns)[3:-1]\n",
    "dates"
   ]
  },
  {
   "cell_type": "code",
   "execution_count": 118,
   "metadata": {},
   "outputs": [],
   "source": [
    "df0 = dfdate(dates[0])\n",
    "df1 = dfdate(dates[1])\n",
    "df2 = dfdate(dates[2])\n",
    "df3 = dfdate(dates[3])"
   ]
  },
  {
   "cell_type": "code",
   "execution_count": 119,
   "metadata": {},
   "outputs": [],
   "source": [
    "df_onecol = pd.concat([df0,df1,df2,df3])"
   ]
  },
  {
   "cell_type": "code",
   "execution_count": 147,
   "metadata": {},
   "outputs": [],
   "source": [
    "def dfIEdate(unit,date):\n",
    "    df_imp_eur = df_onecol.loc[(df_onecol['Virziens'] == 'Imports') & (df_onecol['Vienibas'] == unit) & (df_onecol['Datums'] == date)].loc[:,['Grupa','Daudzums']]\n",
    "    df_exp_eur = df_onecol.loc[(df_onecol['Virziens'] == 'Eksports') & (df_onecol['Vienibas'] == unit) & (df_onecol['Datums'] == date)].loc[:,['Grupa','Daudzums']]\n",
    "    df_merged = pd.merge(df_imp_eur,df_exp_eur,how='outer', on='Grupa')\n",
    "    return df_merged\n"
   ]
  },
  {
   "cell_type": "code",
   "execution_count": null,
   "metadata": {},
   "outputs": [],
   "source": []
  },
  {
   "cell_type": "code",
   "execution_count": 164,
   "metadata": {},
   "outputs": [],
   "source": [
    "def dfAll(unit):\n",
    "    concat = pd.concat([dfIEdate(unit,'2020M01'),dfIEdate('EUR','2020M02'),dfIEdate('EUR','2020M03'),dfIEdate('EUR','2020M04')])\n",
    "    return concat\n"
   ]
  },
  {
   "cell_type": "code",
   "execution_count": 169,
   "metadata": {},
   "outputs": [
    {
     "data": {
      "text/plain": [
       "<seaborn.axisgrid.PairGrid at 0x1c1ca2298c8>"
      ]
     },
     "execution_count": 169,
     "metadata": {},
     "output_type": "execute_result"
    },
    {
     "data": {
      "image/png": "[encoded data removed]",
      "text/plain": [
       "<Figure size 360x360 with 6 Axes>"
      ]
     },
     "metadata": {
      "needs_background": "light"
     },
     "output_type": "display_data"
    }
   ],
   "source": [
    "sb.pairplot(dfAll('kg'))"
   ]
  },
  {
   "cell_type": "code",
   "execution_count": 168,
   "metadata": {},
   "outputs": [
    {
     "data": {
      "text/plain": [
       "<seaborn.axisgrid.PairGrid at 0x1c1c8bb1248>"
      ]
     },
     "execution_count": 168,
     "metadata": {},
     "output_type": "execute_result"
    },
    {
     "data": {
      "image/png": "[encoded data removed]",
      "text/plain": [
       "<Figure size 360x360 with 6 Axes>"
      ]
     },
     "metadata": {
      "needs_background": "light"
     },
     "output_type": "display_data"
    }
   ],
   "source": [
    "sb.pairplot(dfAll('EUR'))"
   ]
  },
  {
   "cell_type": "code",
   "execution_count": 158,
   "metadata": {},
   "outputs": [
    {
     "data": {
      "text/plain": [
       "<seaborn.axisgrid.PairGrid at 0x1c1c6adf088>"
      ]
     },
     "execution_count": 158,
     "metadata": {},
     "output_type": "execute_result"
    },
    {
     "data": {
      "image/png": "[encoded data removed]",
      "text/plain": [
       "<Figure size 360x360 with 6 Axes>"
      ]
     },
     "metadata": {
      "needs_background": "light"
     },
     "output_type": "display_data"
    }
   ],
   "source": [
    "sb.pairplot(dfIEdate('EUR','2020M01'))"
   ]
  },
  {
   "cell_type": "code",
   "execution_count": 159,
   "metadata": {},
   "outputs": [
    {
     "data": {
      "text/plain": [
       "<seaborn.axisgrid.PairGrid at 0x1c1c800ec88>"
      ]
     },
     "execution_count": 159,
     "metadata": {},
     "output_type": "execute_result"
    },
    {
     "data": {
      "image/png": "[encoded data removed]",
      "text/plain": [
       "<Figure size 360x360 with 6 Axes>"
      ]
     },
     "metadata": {
      "needs_background": "light"
     },
     "output_type": "display_data"
    }
   ],
   "source": [
    "sb.pairplot(dfIEdate('EUR','2020M02'))"
   ]
  },
  {
   "cell_type": "code",
   "execution_count": 160,
   "metadata": {},
   "outputs": [
    {
     "data": {
      "text/plain": [
       "<seaborn.axisgrid.PairGrid at 0x1c1c8270908>"
      ]
     },
     "execution_count": 160,
     "metadata": {},
     "output_type": "execute_result"
    },
    {
     "data": {
      "image/png": "[encoded data removed]",
      "text/plain": [
       "<Figure size 360x360 with 6 Axes>"
      ]
     },
     "metadata": {
      "needs_background": "light"
     },
     "output_type": "display_data"
    }
   ],
   "source": [
    "sb.pairplot(dfIEdate('EUR','2020M03'))"
   ]
  },
  {
   "cell_type": "code",
   "execution_count": 161,
   "metadata": {},
   "outputs": [
    {
     "data": {
      "text/plain": [
       "<seaborn.axisgrid.PairGrid at 0x1c1c84b6a48>"
      ]
     },
     "execution_count": 161,
     "metadata": {},
     "output_type": "execute_result"
    },
    {
     "data": {
      "image/png": "[encoded data removed]",
      "text/plain": [
       "<Figure size 360x360 with 6 Axes>"
      ]
     },
     "metadata": {
      "needs_background": "light"
     },
     "output_type": "display_data"
    }
   ],
   "source": [
    "sb.pairplot(dfIEdate('EUR','2020M04'))"
   ]
  },
  {
   "cell_type": "code",
   "execution_count": null,
   "metadata": {},
   "outputs": [],
   "source": []
  }
 ],
 "metadata": {
  "kernelspec": {
   "display_name": "Python 3",
   "language": "python",
   "name": "python3"
  },
  "language_info": {
   "codemirror_mode": {
    "name": "ipython",
    "version": 3
   },
   "file_extension": ".py",
   "mimetype": "text/x-python",
   "name": "python",
   "nbconvert_exporter": "python",
   "pygments_lexer": "ipython3",
   "version": "3.7.6"
  }
 },
 "nbformat": 4,
 "nbformat_minor": 4
}
